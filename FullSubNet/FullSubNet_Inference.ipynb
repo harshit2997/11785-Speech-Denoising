{
  "cells": [
    {
      "cell_type": "code",
      "execution_count": null,
      "metadata": {
        "colab": {
          "base_uri": "https://localhost:8080/"
        },
        "id": "WcjbNlMTVaRE",
        "outputId": "d89332e7-bebe-4abf-f07d-9784fd935c65"
      },
      "outputs": [],
      "source": [
        "!pip install GitPython toml"
      ]
    },
    {
      "cell_type": "code",
      "execution_count": null,
      "metadata": {
        "colab": {
          "base_uri": "https://localhost:8080/",
          "height": 1000
        },
        "id": "jdq7hQ1Lfvzf",
        "outputId": "fce83e13-b8ac-4e0a-a66c-ad2cedf34c45"
      },
      "outputs": [],
      "source": [
        "!pip install librosa pesq pypesq pystoi tqdm toml mir_eval torch_complex rich"
      ]
    },
    {
      "cell_type": "code",
      "execution_count": 3,
      "metadata": {
        "id": "Lw_UGqO5Vb-1"
      },
      "outputs": [],
      "source": [
        "import os\n",
        "import urllib.request\n",
        "import shutil\n",
        "import git\n",
        "import IPython.display\n",
        "import librosa\n",
        "import soundfile"
      ]
    },
    {
      "cell_type": "code",
      "execution_count": null,
      "metadata": {
        "colab": {
          "base_uri": "https://localhost:8080/"
        },
        "id": "I2zo2yErfily",
        "outputId": "0cf1eb89-038a-47c8-b680-521e7553cb6f"
      },
      "outputs": [],
      "source": [
        "from google.colab import drive\n",
        "drive.mount('/content/drive')"
      ]
    },
    {
      "cell_type": "code",
      "execution_count": null,
      "metadata": {
        "colab": {
          "base_uri": "https://localhost:8080/"
        },
        "id": "tahc4MjJw8Tj",
        "outputId": "c67b413f-b2d1-4656-9fdf-045785b5bd91"
      },
      "outputs": [],
      "source": [
        "!git clone https://github.com/YunyangZeng/TAPLoss"
      ]
    },
    {
      "cell_type": "code",
      "execution_count": null,
      "metadata": {
        "colab": {
          "base_uri": "https://localhost:8080/"
        },
        "id": "bP9I1JybUW0H",
        "outputId": "b7f6c48e-a1e4-4647-90f9-9b6a7040295e"
      },
      "outputs": [],
      "source": [
        "# load pre-trained FullSubNet model from DNS 2020 challenge. Has been trained for 58 epochs. If you have another pre-trained model use that.\n",
        "\n",
        "!wget -q https://cmu.box.com/shared/static/tblaokesvar8mr6r38n36pqrhqp9gyko.tar --content-disposition --show-progress"
      ]
    },
    {
      "cell_type": "code",
      "execution_count": 10,
      "metadata": {
        "id": "tuSZg1TYtHpW"
      },
      "outputs": [],
      "source": [
        "inference_toml=\"\"\"\n",
        "[acoustics]\n",
        "sr = 16000\n",
        "n_fft = 512\n",
        "win_length = 512\n",
        "hop_length = 256\n",
        "\n",
        "\n",
        "[inferencer]\n",
        "path = \"inferencer.Inferencer\"\n",
        "type = \"full_band_crm_mask\"\n",
        "\n",
        "[inferencer.args]\n",
        "n_neighbor = 15\n",
        "\n",
        "\n",
        "[dataset]\n",
        "path = \"dataset_inference.Dataset\"\n",
        "\n",
        "[dataset.args]\n",
        "dataset_dir_list = [\"./drive/MyDrive/idlproj/data/auto\"]\n",
        "sr = 16000\n",
        "\n",
        "\n",
        "[model]\n",
        "path = \"model.Model\"\n",
        "\n",
        "[model.args]\n",
        "num_freqs = 257\n",
        "look_ahead = 2\n",
        "sequence_model = \"LSTM\"\n",
        "fb_num_neighbors = 0\n",
        "sb_num_neighbors = 15\n",
        "fb_output_activate_function = \"ReLU\"\n",
        "sb_output_activate_function = false\n",
        "fb_model_hidden_size = 512\n",
        "sb_model_hidden_size = 384\n",
        "weight_init = false\n",
        "norm_type = \"offline_laplace_norm\"\n",
        "num_groups_in_drop_band = 1\n",
        "\"\"\"\n",
        "\n",
        "with open('./TAPLoss/FullSubNet/recipes/dns_interspeech_2020/fullsubnet/custom_inference.toml', 'w') as fp:\n",
        "    fp.write(inference_toml)"
      ]
    },
    {
      "cell_type": "code",
      "execution_count": 11,
      "metadata": {
        "colab": {
          "base_uri": "https://localhost:8080/"
        },
        "id": "YOoPsRGpxc6w",
        "outputId": "7e473941-9fd3-495f-a4d9-95671eb064ea"
      },
      "outputs": [
        {
          "name": "stdout",
          "output_type": "stream",
          "text": [
            "Using CPU in the experiment.\n",
            "Loading inference dataset...\n",
            "Loading model...\n",
            "/content/drive/MyDrive/idlproj/best_model.tar\n",
            "Loading model checkpoint (epoch == 10)...\n",
            "Configurations are as follows: \n",
            "[acoustics]\n",
            "sr = 16000\n",
            "n_fft = 512\n",
            "win_length = 512\n",
            "hop_length = 256\n",
            "\n",
            "[inferencer]\n",
            "path = \"inferencer.Inferencer\"\n",
            "type = \"full_band_crm_mask\"\n",
            "\n",
            "[dataset]\n",
            "path = \"dataset_inference.Dataset\"\n",
            "\n",
            "[model]\n",
            "path = \"model.Model\"\n",
            "\n",
            "[inferencer.args]\n",
            "n_neighbor = 15\n",
            "\n",
            "[dataset.args]\n",
            "dataset_dir_list = [ \"./drive/MyDrive/idlproj/data/auto\",]\n",
            "sr = 16000\n",
            "\n",
            "[model.args]\n",
            "num_freqs = 257\n",
            "look_ahead = 2\n",
            "sequence_model = \"LSTM\"\n",
            "fb_num_neighbors = 0\n",
            "sb_num_neighbors = 15\n",
            "fb_output_activate_function = \"ReLU\"\n",
            "sb_output_activate_function = false\n",
            "fb_model_hidden_size = 512\n",
            "sb_model_hidden_size = 384\n",
            "weight_init = false\n",
            "norm_type = \"offline_laplace_norm\"\n",
            "num_groups_in_drop_band = 1\n",
            "\n",
            "Inference: 100% 150/150 [24:23<00:00,  9.76s/it]\n"
          ]
        }
      ],
      "source": [
        "# One GPU is used by default. Using our fine-tuned model\n",
        "!python3 ./TAPLoss/FullSubNet/recipes/dns_interspeech_2020/inference.py \\\n",
        "  -C ./TAPLoss/FullSubNet/recipes/dns_interspeech_2020/fullsubnet/custom_inference.toml \\\n",
        "  -M './drive/MyDrive/idlproj/best_model.tar' \\\n",
        "  -O './drive/MyDrive/idlproj/data/enhan_auto_fullsubnet'"
      ]
    }
  ],
  "metadata": {
    "accelerator": "GPU",
    "colab": {
      "provenance": []
    },
    "gpuClass": "standard",
    "kernelspec": {
      "display_name": "Python 3",
      "name": "python3"
    },
    "language_info": {
      "name": "python"
    }
  },
  "nbformat": 4,
  "nbformat_minor": 0
}
