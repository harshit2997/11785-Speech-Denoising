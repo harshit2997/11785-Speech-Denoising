{
  "cells": [
    {
      "cell_type": "code",
      "execution_count": null,
      "metadata": {
        "colab": {
          "base_uri": "https://localhost:8080/"
        },
        "id": "DgL0pJm_KNIG",
        "outputId": "1827dc10-08fd-4bfb-f989-58a516ffa844"
      },
      "outputs": [
        {
          "output_type": "stream",
          "name": "stdout",
          "text": [
            "\u001b[33mWARNING: Ignoring invalid distribution -umpy (/usr/local/lib/python3.9/dist-packages)\u001b[0m\u001b[33m\n",
            "\u001b[0m\u001b[33mWARNING: Ignoring invalid distribution -umpy (/usr/local/lib/python3.9/dist-packages)\u001b[0m\u001b[33m\n",
            "\u001b[0mLooking in indexes: https://pypi.org/simple, https://us-python.pkg.dev/colab-wheels/public/simple/\n",
            "Collecting numpy==1.21.6\n",
            "  Using cached numpy-1.21.6-cp39-cp39-manylinux_2_12_x86_64.manylinux2010_x86_64.whl (15.7 MB)\n",
            "\u001b[33mWARNING: Ignoring invalid distribution -umpy (/usr/local/lib/python3.9/dist-packages)\u001b[0m\u001b[33m\n",
            "\u001b[0mInstalling collected packages: numpy\n",
            "  Attempting uninstall: numpy\n",
            "\u001b[33m    WARNING: Ignoring invalid distribution -umpy (/usr/local/lib/python3.9/dist-packages)\u001b[0m\u001b[33m\n",
            "\u001b[0m    Found existing installation: numpy 1.23.5\n",
            "    Uninstalling numpy-1.23.5:\n",
            "      Successfully uninstalled numpy-1.23.5\n",
            "\u001b[33mWARNING: Ignoring invalid distribution -umpy (/usr/local/lib/python3.9/dist-packages)\u001b[0m\u001b[33m\n",
            "\u001b[0m\u001b[31mERROR: pip's dependency resolver does not currently take into account all the packages that are installed. This behaviour is the source of the following dependency conflicts.\n",
            "tensorflow 2.12.0 requires numpy<1.24,>=1.22, but you have numpy 1.21.6 which is incompatible.\u001b[0m\u001b[31m\n",
            "\u001b[0mSuccessfully installed numpy-1.21.6\n",
            "\u001b[33mWARNING: Ignoring invalid distribution -umpy (/usr/local/lib/python3.9/dist-packages)\u001b[0m\u001b[33m\n",
            "\u001b[0m\u001b[33mWARNING: Ignoring invalid distribution -umpy (/usr/local/lib/python3.9/dist-packages)\u001b[0m\u001b[33m\n",
            "\u001b[2K     \u001b[32m-\u001b[0m \u001b[32m52.7 MB\u001b[0m \u001b[31m9.7 MB/s\u001b[0m \u001b[33m0:00:05\u001b[0m\n",
            "\u001b[?25h  Installing build dependencies ... \u001b[?25l\u001b[?25hdone\n",
            "  \u001b[1;31merror\u001b[0m: \u001b[1msubprocess-exited-with-error\u001b[0m\n",
            "  \n",
            "  \u001b[31m×\u001b[0m \u001b[32mGetting requirements to build wheel\u001b[0m did not run successfully.\n",
            "  \u001b[31m│\u001b[0m exit code: \u001b[1;36m1\u001b[0m\n",
            "  \u001b[31m╰─>\u001b[0m See above for output.\n",
            "  \n",
            "  \u001b[1;35mnote\u001b[0m: This error originates from a subprocess, and is likely not a problem with pip.\n",
            "  Getting requirements to build wheel ... \u001b[?25l\u001b[?25herror\n",
            "\u001b[1;31merror\u001b[0m: \u001b[1msubprocess-exited-with-error\u001b[0m\n",
            "\n",
            "\u001b[31m×\u001b[0m \u001b[32mGetting requirements to build wheel\u001b[0m did not run successfully.\n",
            "\u001b[31m│\u001b[0m exit code: \u001b[1;36m1\u001b[0m\n",
            "\u001b[31m╰─>\u001b[0m See above for output.\n",
            "\n",
            "\u001b[1;35mnote\u001b[0m: This error originates from a subprocess, and is likely not a problem with pip.\n",
            "\u001b[33mWARNING: Ignoring invalid distribution -umpy (/usr/local/lib/python3.9/dist-packages)\u001b[0m\u001b[33m\n",
            "\u001b[0m\u001b[33mWARNING: Ignoring invalid distribution -umpy (/usr/local/lib/python3.9/dist-packages)\u001b[0m\u001b[33m\n",
            "\u001b[0m  Installing build dependencies ... \u001b[?25l\u001b[?25hdone\n",
            "  Getting requirements to build wheel ... \u001b[?25l\u001b[?25hdone\n",
            "  Preparing metadata (pyproject.toml) ... \u001b[?25l\u001b[?25hdone\n",
            "  Preparing metadata (setup.py) ... \u001b[?25l\u001b[?25hdone\n",
            "  Preparing metadata (setup.py) ... \u001b[?25l\u001b[?25hdone\n",
            "  Preparing metadata (setup.py) ... \u001b[?25l\u001b[?25hdone\n",
            "\u001b[33mWARNING: Ignoring invalid distribution -umpy (/usr/local/lib/python3.9/dist-packages)\u001b[0m\u001b[33m\n",
            "\u001b[0m\u001b[33mWARNING: Ignoring invalid distribution -umpy (/usr/local/lib/python3.9/dist-packages)\u001b[0m\u001b[33m\n",
            "\u001b[0m\u001b[33mWARNING: Ignoring invalid distribution -umpy (/usr/local/lib/python3.9/dist-packages)\u001b[0m\u001b[33m\n",
            "\u001b[0m\u001b[33mWARNING: Ignoring invalid distribution -umpy (/usr/local/lib/python3.9/dist-packages)\u001b[0m\u001b[33m\n",
            "\u001b[0m\u001b[33mWARNING: Ignoring invalid distribution -umpy (/usr/local/lib/python3.9/dist-packages)\u001b[0m\u001b[33m\n",
            "\u001b[0m\u001b[33mDEPRECATION: git+https://github.com/aliutkus/speechmetrics#egg=speechmetrics[cpu] contains an egg fragment with a non-PEP 508 name pip 25.0 will enforce this behaviour change. A possible replacement is to use the req @ url syntax, and remove the egg fragment. Discussion can be found at https://github.com/pypa/pip/issues/11617\u001b[0m\u001b[33m\n",
            "\u001b[0m\u001b[33mWARNING: Ignoring invalid distribution -umpy (/usr/local/lib/python3.9/dist-packages)\u001b[0m\u001b[33m\n",
            "\u001b[0m  Preparing metadata (setup.py) ... \u001b[?25l\u001b[?25hdone\n",
            "  Preparing metadata (setup.py) ... \u001b[?25l\u001b[?25hdone\n",
            "  Preparing metadata (setup.py) ... \u001b[?25l\u001b[?25hdone\n",
            "  Preparing metadata (setup.py) ... \u001b[?25l\u001b[?25hdone\n",
            "  Preparing metadata (setup.py) ... \u001b[?25l\u001b[?25hdone\n",
            "\u001b[33mWARNING: Ignoring invalid distribution -umpy (/usr/local/lib/python3.9/dist-packages)\u001b[0m\u001b[33m\n",
            "\u001b[0m\u001b[33m    WARNING: Ignoring invalid distribution -umpy (/usr/local/lib/python3.9/dist-packages)\u001b[0m\u001b[33m\n",
            "\u001b[0m\u001b[33mWARNING: Ignoring invalid distribution -umpy (/usr/local/lib/python3.9/dist-packages)\u001b[0m\u001b[33m\n",
            "\u001b[0m"
          ]
        }
      ],
      "source": [
        "!pip install numpy==1.21.6\n",
        "! pip3 install https://github.com/claritychallenge/clarity/archive/refs/heads/main.zip --quiet\n",
        "! pip3 install https://github.com/schmiph2/pysepm/archive/master.zip --quiet\n",
        "! pip3 install pystoi --quiet\n",
        "! pip install git+https://github.com/aliutkus/speechmetrics#egg=speechmetrics[cpu] --quiet"
      ]
    },
    {
      "cell_type": "code",
      "source": [
        "# TODO: Import drive if you are using Colab\n",
        "from google.colab import drive\n",
        "drive.mount('/content/gdrive/', force_remount=True)"
      ],
      "metadata": {
        "colab": {
          "base_uri": "https://localhost:8080/",
          "height": 346
        },
        "id": "oDXJZYvky6s5",
        "outputId": "acc712f9-685f-4afd-d9b0-695329f9e2dc"
      },
      "execution_count": null,
      "outputs": [
        {
          "output_type": "error",
          "ename": "KeyError",
          "evalue": "ignored",
          "traceback": [
            "\u001b[0;31m---------------------------------------------------------------------------\u001b[0m",
            "\u001b[0;31mKeyError\u001b[0m                                  Traceback (most recent call last)",
            "\u001b[0;32m<ipython-input-7-a4cd897248c1>\u001b[0m in \u001b[0;36m<cell line: 4>\u001b[0;34m()\u001b[0m\n\u001b[1;32m      2\u001b[0m \u001b[0;32mfrom\u001b[0m \u001b[0mgoogle\u001b[0m\u001b[0;34m.\u001b[0m\u001b[0mcolab\u001b[0m \u001b[0;32mimport\u001b[0m \u001b[0mdrive\u001b[0m\u001b[0;34m\u001b[0m\u001b[0;34m\u001b[0m\u001b[0m\n\u001b[1;32m      3\u001b[0m \u001b[0;34m\u001b[0m\u001b[0m\n\u001b[0;32m----> 4\u001b[0;31m \u001b[0mdrive\u001b[0m\u001b[0;34m.\u001b[0m\u001b[0mmount\u001b[0m\u001b[0;34m(\u001b[0m\u001b[0;34m'/content/gdrive/'\u001b[0m\u001b[0;34m,\u001b[0m \u001b[0mforce_remount\u001b[0m\u001b[0;34m=\u001b[0m\u001b[0;32mTrue\u001b[0m\u001b[0;34m)\u001b[0m\u001b[0;34m\u001b[0m\u001b[0;34m\u001b[0m\u001b[0m\n\u001b[0m",
            "\u001b[0;32m/usr/local/lib/python3.9/dist-packages/google/colab/drive.py\u001b[0m in \u001b[0;36mmount\u001b[0;34m(mountpoint, force_remount, timeout_ms, readonly)\u001b[0m\n\u001b[1;32m    101\u001b[0m \u001b[0;32mdef\u001b[0m \u001b[0mmount\u001b[0m\u001b[0;34m(\u001b[0m\u001b[0mmountpoint\u001b[0m\u001b[0;34m,\u001b[0m \u001b[0mforce_remount\u001b[0m\u001b[0;34m=\u001b[0m\u001b[0;32mFalse\u001b[0m\u001b[0;34m,\u001b[0m \u001b[0mtimeout_ms\u001b[0m\u001b[0;34m=\u001b[0m\u001b[0;36m120000\u001b[0m\u001b[0;34m,\u001b[0m \u001b[0mreadonly\u001b[0m\u001b[0;34m=\u001b[0m\u001b[0;32mFalse\u001b[0m\u001b[0;34m)\u001b[0m\u001b[0;34m:\u001b[0m\u001b[0;34m\u001b[0m\u001b[0;34m\u001b[0m\u001b[0m\n\u001b[1;32m    102\u001b[0m   \u001b[0;34m\"\"\"Mount your Google Drive at the specified mountpoint path.\"\"\"\u001b[0m\u001b[0;34m\u001b[0m\u001b[0;34m\u001b[0m\u001b[0m\n\u001b[0;32m--> 103\u001b[0;31m   return _mount(\n\u001b[0m\u001b[1;32m    104\u001b[0m       \u001b[0mmountpoint\u001b[0m\u001b[0;34m,\u001b[0m\u001b[0;34m\u001b[0m\u001b[0;34m\u001b[0m\u001b[0m\n\u001b[1;32m    105\u001b[0m       \u001b[0mforce_remount\u001b[0m\u001b[0;34m=\u001b[0m\u001b[0mforce_remount\u001b[0m\u001b[0;34m,\u001b[0m\u001b[0;34m\u001b[0m\u001b[0;34m\u001b[0m\u001b[0m\n",
            "\u001b[0;32m/usr/local/lib/python3.9/dist-packages/google/colab/drive.py\u001b[0m in \u001b[0;36m_mount\u001b[0;34m(mountpoint, force_remount, timeout_ms, ephemeral, readonly)\u001b[0m\n\u001b[1;32m    125\u001b[0m \u001b[0;34m\u001b[0m\u001b[0m\n\u001b[1;32m    126\u001b[0m   metadata_server_addr = (\n\u001b[0;32m--> 127\u001b[0;31m       \u001b[0m_os\u001b[0m\u001b[0;34m.\u001b[0m\u001b[0menviron\u001b[0m\u001b[0;34m[\u001b[0m\u001b[0;34m'TBE_EPHEM_CREDS_ADDR'\u001b[0m\u001b[0;34m]\u001b[0m\u001b[0;34m\u001b[0m\u001b[0;34m\u001b[0m\u001b[0m\n\u001b[0m\u001b[1;32m    128\u001b[0m       \u001b[0;32mif\u001b[0m \u001b[0mephemeral\u001b[0m\u001b[0;34m\u001b[0m\u001b[0;34m\u001b[0m\u001b[0m\n\u001b[1;32m    129\u001b[0m       \u001b[0;32melse\u001b[0m \u001b[0m_os\u001b[0m\u001b[0;34m.\u001b[0m\u001b[0menviron\u001b[0m\u001b[0;34m[\u001b[0m\u001b[0;34m'TBE_CREDS_ADDR'\u001b[0m\u001b[0;34m]\u001b[0m\u001b[0;34m\u001b[0m\u001b[0;34m\u001b[0m\u001b[0m\n",
            "\u001b[0;32m/usr/lib/python3.9/os.py\u001b[0m in \u001b[0;36m__getitem__\u001b[0;34m(self, key)\u001b[0m\n\u001b[1;32m    677\u001b[0m         \u001b[0;32mexcept\u001b[0m \u001b[0mKeyError\u001b[0m\u001b[0;34m:\u001b[0m\u001b[0;34m\u001b[0m\u001b[0;34m\u001b[0m\u001b[0m\n\u001b[1;32m    678\u001b[0m             \u001b[0;31m# raise KeyError with the original key value\u001b[0m\u001b[0;34m\u001b[0m\u001b[0;34m\u001b[0m\u001b[0m\n\u001b[0;32m--> 679\u001b[0;31m             \u001b[0;32mraise\u001b[0m \u001b[0mKeyError\u001b[0m\u001b[0;34m(\u001b[0m\u001b[0mkey\u001b[0m\u001b[0;34m)\u001b[0m \u001b[0;32mfrom\u001b[0m \u001b[0;32mNone\u001b[0m\u001b[0;34m\u001b[0m\u001b[0;34m\u001b[0m\u001b[0m\n\u001b[0m\u001b[1;32m    680\u001b[0m         \u001b[0;32mreturn\u001b[0m \u001b[0mself\u001b[0m\u001b[0;34m.\u001b[0m\u001b[0mdecodevalue\u001b[0m\u001b[0;34m(\u001b[0m\u001b[0mvalue\u001b[0m\u001b[0;34m)\u001b[0m\u001b[0;34m\u001b[0m\u001b[0;34m\u001b[0m\u001b[0m\n\u001b[1;32m    681\u001b[0m \u001b[0;34m\u001b[0m\u001b[0m\n",
            "\u001b[0;31mKeyError\u001b[0m: 'TBE_EPHEM_CREDS_ADDR'"
          ]
        }
      ]
    },
    {
      "cell_type": "code",
      "execution_count": null,
      "metadata": {
        "id": "CuJMB8AP4Gy0"
      },
      "outputs": [],
      "source": [
        "import os\n",
        "import requests\n",
        "from bs4 import BeautifulSoup\n",
        "import re\n",
        "# from clarity.evaluator import haspi, mbstoi\n",
        "import pysepm\n",
        "import pystoi\n",
        "import speechmetrics\n",
        "import numpy as np"
      ]
    },
    {
      "cell_type": "code",
      "source": [],
      "metadata": {
        "id": "ndVQiC6BrNG9"
      },
      "execution_count": null,
      "outputs": []
    },
    {
      "cell_type": "markdown",
      "source": [
        "You can use the code below if you need to scrape clean and noisy test data from the DNS Challenge Repo. When working with different data please replace the path names accoringly"
      ],
      "metadata": {
        "id": "ex6qFtborifh"
      }
    },
    {
      "cell_type": "code",
      "source": [
        "root_url  = \"https://github.com/microsoft/DNS-Challenge/raw/interspeech2020/master/datasets/test_set/synthetic/no_reverb\"\n",
        "\n",
        "'''\n",
        "clean_url = root_url + \"/clean/clean_fileid_0.wav\"\n",
        "noisy_url = root_url + \"/noisy/clnsp126_3Wjw0nadnM4_snr15_tl-22_fileid_0.wav\"\n",
        "\n",
        "if \"clean.wav\" not in os.listdir() or \"noisy.wav\" not in os.listdir():\n",
        "    os.system(\"wget -O clean.wav \" + clean_url)\n",
        "    os.system(\"wget -O noisy.wav \" + noisy_url)\n",
        "'''"
      ],
      "metadata": {
        "colab": {
          "base_uri": "https://localhost:8080/",
          "height": 52
        },
        "id": "HJhz6dlsrRBI",
        "outputId": "334503f6-59b1-4fa3-b541-8c79e0c1bcbe"
      },
      "execution_count": 9,
      "outputs": [
        {
          "output_type": "execute_result",
          "data": {
            "text/plain": [
              "'\\nclean_url = root_url + \"/clean/clean_fileid_0.wav\"\\nnoisy_url = root_url + \"/noisy/clnsp126_3Wjw0nadnM4_snr15_tl-22_fileid_0.wav\"\\n\\nif \"clean.wav\" not in os.listdir() or \"noisy.wav\" not in os.listdir():\\n    os.system(\"wget -O clean.wav \" + clean_url)\\n    os.system(\"wget -O noisy.wav \" + noisy_url)\\n'"
            ],
            "application/vnd.google.colaboratory.intrinsic+json": {
              "type": "string"
            }
          },
          "metadata": {},
          "execution_count": 9
        }
      ]
    },
    {
      "cell_type": "code",
      "source": [
        "clean_file_names = []\n",
        "\n",
        "clean_html = requests.get(root_url+\"/clean\")\n",
        "soup = BeautifulSoup(clean_html.content, \"html.parser\")\n",
        "\n",
        "for i in soup.find_all(title=re.compile(\"\\\\.wav$\")):\n",
        "        clean_file_names.append(i.extract().get_text())\n",
        "\n",
        "print (clean_file_names)\n",
        "print (len(clean_file_names))\n",
        "\n",
        "noisy_file_names = []\n",
        "\n",
        "noisy_html = requests.get(root_url+\"/noisy\")\n",
        "soup = BeautifulSoup(noisy_html.content, \"html.parser\")\n",
        "\n",
        "for i in soup.find_all(title=re.compile(\"\\\\.wav$\")):\n",
        "        noisy_file_names.append(i.extract().get_text())\n",
        "\n",
        "print (noisy_file_names)\n",
        "print (len(noisy_file_names))"
      ],
      "metadata": {
        "colab": {
          "base_uri": "https://localhost:8080/"
        },
        "id": "LziOsUmEr-tG",
        "outputId": "3d16a835-7072-4aca-9007-c246f22801ae"
      },
      "execution_count": 10,
      "outputs": [
        {
          "output_type": "stream",
          "name": "stdout",
          "text": [
            "['clean_fileid_0.wav', 'clean_fileid_101.wav', 'clean_fileid_102.wav', 'clean_fileid_104.wav', 'clean_fileid_105.wav', 'clean_fileid_107.wav', 'clean_fileid_110.wav', 'clean_fileid_112.wav', 'clean_fileid_113.wav', 'clean_fileid_116.wav', 'clean_fileid_117.wav', 'clean_fileid_118.wav', 'clean_fileid_125.wav', 'clean_fileid_127.wav', 'clean_fileid_130.wav', 'clean_fileid_132.wav', 'clean_fileid_133.wav', 'clean_fileid_134.wav', 'clean_fileid_136.wav', 'clean_fileid_137.wav', 'clean_fileid_139.wav', 'clean_fileid_14.wav', 'clean_fileid_142.wav', 'clean_fileid_143.wav', 'clean_fileid_145.wav', 'clean_fileid_146.wav', 'clean_fileid_147.wav', 'clean_fileid_149.wav', 'clean_fileid_150.wav', 'clean_fileid_152.wav', 'clean_fileid_155.wav', 'clean_fileid_156.wav', 'clean_fileid_158.wav', 'clean_fileid_16.wav', 'clean_fileid_161.wav', 'clean_fileid_163.wav', 'clean_fileid_165.wav', 'clean_fileid_166.wav', 'clean_fileid_167.wav', 'clean_fileid_169.wav', 'clean_fileid_17.wav', 'clean_fileid_170.wav', 'clean_fileid_173.wav', 'clean_fileid_175.wav', 'clean_fileid_176.wav', 'clean_fileid_178.wav', 'clean_fileid_180.wav', 'clean_fileid_181.wav', 'clean_fileid_19.wav', 'clean_fileid_191.wav', 'clean_fileid_192.wav', 'clean_fileid_197.wav', 'clean_fileid_199.wav', 'clean_fileid_2.wav', 'clean_fileid_20.wav', 'clean_fileid_200.wav', 'clean_fileid_201.wav', 'clean_fileid_205.wav', 'clean_fileid_206.wav', 'clean_fileid_207.wav', 'clean_fileid_208.wav', 'clean_fileid_21.wav', 'clean_fileid_210.wav', 'clean_fileid_213.wav', 'clean_fileid_214.wav', 'clean_fileid_218.wav', 'clean_fileid_220.wav', 'clean_fileid_221.wav', 'clean_fileid_223.wav', 'clean_fileid_228.wav', 'clean_fileid_229.wav', 'clean_fileid_23.wav', 'clean_fileid_231.wav', 'clean_fileid_232.wav', 'clean_fileid_234.wav', 'clean_fileid_238.wav', 'clean_fileid_241.wav', 'clean_fileid_243.wav', 'clean_fileid_245.wav', 'clean_fileid_247.wav', 'clean_fileid_249.wav', 'clean_fileid_250.wav', 'clean_fileid_252.wav', 'clean_fileid_253.wav', 'clean_fileid_255.wav', 'clean_fileid_26.wav', 'clean_fileid_261.wav', 'clean_fileid_264.wav', 'clean_fileid_268.wav', 'clean_fileid_271.wav', 'clean_fileid_274.wav', 'clean_fileid_275.wav', 'clean_fileid_277.wav', 'clean_fileid_280.wav', 'clean_fileid_282.wav', 'clean_fileid_283.wav', 'clean_fileid_285.wav', 'clean_fileid_287.wav', 'clean_fileid_288.wav', 'clean_fileid_289.wav', 'clean_fileid_290.wav', 'clean_fileid_291.wav', 'clean_fileid_293.wav', 'clean_fileid_296.wav', 'clean_fileid_3.wav', 'clean_fileid_300.wav', 'clean_fileid_33.wav', 'clean_fileid_34.wav', 'clean_fileid_35.wav', 'clean_fileid_37.wav', 'clean_fileid_38.wav', 'clean_fileid_4.wav', 'clean_fileid_42.wav', 'clean_fileid_43.wav', 'clean_fileid_44.wav', 'clean_fileid_45.wav', 'clean_fileid_47.wav', 'clean_fileid_48.wav', 'clean_fileid_49.wav', 'clean_fileid_5.wav', 'clean_fileid_50.wav', 'clean_fileid_52.wav', 'clean_fileid_53.wav', 'clean_fileid_54.wav', 'clean_fileid_57.wav', 'clean_fileid_58.wav', 'clean_fileid_59.wav', 'clean_fileid_6.wav', 'clean_fileid_60.wav', 'clean_fileid_63.wav', 'clean_fileid_64.wav', 'clean_fileid_66.wav', 'clean_fileid_67.wav', 'clean_fileid_69.wav', 'clean_fileid_7.wav', 'clean_fileid_71.wav', 'clean_fileid_72.wav', 'clean_fileid_73.wav', 'clean_fileid_76.wav', 'clean_fileid_77.wav', 'clean_fileid_8.wav', 'clean_fileid_80.wav', 'clean_fileid_81.wav', 'clean_fileid_82.wav', 'clean_fileid_88.wav', 'clean_fileid_89.wav', 'clean_fileid_9.wav', 'clean_fileid_90.wav', 'clean_fileid_94.wav', 'clean_fileid_96.wav']\n",
            "150\n",
            "['clnsp102_traffic_248091_3_snr0_tl-21_fileid_268.wav', 'clnsp104_G3hs6PFniM0_snr4_tl-27_fileid_133.wav', 'clnsp113_car_19980_0_snr18_tl-30_fileid_178.wav', 'clnsp126_3Wjw0nadnM4_snr15_tl-22_fileid_0.wav', 'clnsp129_lJoaywrZPsU_snr0_tl-27_fileid_252.wav', 'clnsp146_baby_416657_0_snr9_tl-25_fileid_72.wav', 'clnsp148_4AGxmFdExYc_snr0_tl-28_fileid_238.wav', 'clnsp149_SjEWn2DhLDs_snr0_tl-23_fileid_58.wav', 'clnsp153_bus_109303_3_snr13_tl-34_fileid_197.wav', 'clnsp155_oDyn0_Ti63Q_snr16_tl-35_fileid_149.wav', 'clnsp156_water_320289_2_snr3_tl-19_fileid_125.wav', 'clnsp157_water_125964_2_snr9_tl-32_fileid_243.wav', 'clnsp165_vacuum_273194_1_snr14_tl-30_fileid_156.wav', 'clnsp166_bus_128120_3_snr10_tl-27_fileid_16.wav', 'clnsp169_babble_188218_7_snr15_tl-19_fileid_21.wav', 'clnsp16_traffic_248091_1_snr11_tl-22_fileid_88.wav', 'clnsp176_chair_154380_0_snr19_tl-32_fileid_35.wav', 'clnsp177_0kuIP7fLNpM_snr6_tl-26_fileid_90.wav', 'clnsp178_baby_416649_0_snr15_tl-32_fileid_127.wav', 'clnsp17_birds_413745_3_snr2_tl-23_fileid_44.wav', 'clnsp186_vacuum_353640_3_snr1_tl-27_fileid_192.wav', 'clnsp192_air_conditioner_151977_3_snr11_tl-35_fileid_66.wav', 'clnsp194_barking_25887_3_snr4_tl-24_fileid_23.wav', 'clnsp198_bus_56903_0_snr0_tl-32_fileid_101.wav', 'clnsp199_birds_413745_9_snr13_tl-31_fileid_47.wav', 'clnsp1_train_69005_1_snr15_tl-21_fileid_158.wav', 'clnsp200_TgjQN698XU8_snr4_tl-21_fileid_6.wav', 'clnsp204_birds_105003_1_snr7_tl-29_fileid_207.wav', 'clnsp205_wind_407027_1_snr1_tl-24_fileid_170.wav', 'clnsp211_bus_128120_10_snr19_tl-22_fileid_107.wav', 'clnsp213_bhxP0WJ17ko_snr9_tl-33_fileid_250.wav', 'clnsp216_birds_105003_0_snr12_tl-27_fileid_143.wav', 'clnsp217_birds_413745_1_snr2_tl-28_fileid_71.wav', 'clnsp218_ilTSWXPYT2U_snr10_tl-17_fileid_274.wav', 'clnsp219_wind_344887_0_snr10_tl-28_fileid_96.wav', 'clnsp225_washer_246507_10_snr11_tl-20_fileid_200.wav', 'clnsp228_vacuum_379760_1_snr1_tl-19_fileid_104.wav', 'clnsp22_breath_21983_0_snr1_tl-18_fileid_50.wav', 'clnsp233_traffic_423299_3_snr19_tl-20_fileid_139.wav', 'clnsp236_d11XSGiWtd0_snr10_tl-33_fileid_155.wav', 'clnsp238_washer_389769_1_snr11_tl-20_fileid_3.wav', 'clnsp241_washer_235366_2_snr17_tl-24_fileid_2.wav', 'clnsp243_LU2DK53Oud4_snr1_tl-29_fileid_150.wav', 'clnsp246_door_83878_0_snr15_tl-26_fileid_213.wav', 'clnsp247_birds_413745_4_snr12_tl-24_fileid_137.wav', 'clnsp250_vacuum_388017_2_snr6_tl-20_fileid_231.wav', 'clnsp257_vacuum_273194_2_snr4_tl-18_fileid_175.wav', 'clnsp25_babble_188218_21_snr5_tl-25_fileid_147.wav', 'clnsp263_uOZZEV1IcDI-copy_machine_426874_7_snr3_tl-31_fileid_290.wav', 'clnsp266_washer_246507_1_snr12_tl-24_fileid_201.wav', 'clnsp267_wind_407022_1_snr3_tl-25_fileid_57.wav', 'clnsp268_wind_237324_0_snr14_tl-32_fileid_152.wav', 'clnsp269_wind_130975_2_snr8_tl-21_fileid_293.wav', 'clnsp273_birds_413745_0_snr6_tl-22_fileid_63.wav', 'clnsp279_wind_237324_2_snr12_tl-19_fileid_146.wav', 'clnsp27_GvaTLOWuCK8_snr10_tl-22_fileid_296.wav', 'clnsp281_vacuum_154783_2_snr12_tl-31_fileid_73.wav', 'clnsp283_birds_121947_1_snr2_tl-26_fileid_49.wav', 'clnsp287_baby_416650_0_snr12_tl-34_fileid_241.wav', 'clnsp291_vacuum_388017_1_snr19_tl-26_fileid_60.wav', 'clnsp295_CnLQFM08y1U_snr6_tl-25_fileid_4.wav', 'clnsp297_breath_336530_0_snr3_tl-31_fileid_245.wav', 'clnsp301_barking_166489_1_snr12_tl-21_fileid_26.wav', 'clnsp305_baby_416655_0_snr11_tl-30_fileid_110.wav', 'clnsp307_barking_196127_0_snr8_tl-21_fileid_52.wav', 'clnsp30_birds_121947_2_snr6_tl-27_fileid_116.wav', 'clnsp312_Vi5bENnLJPs_snr15_tl-20_fileid_45.wav', 'clnsp314_washer_246507_8_snr6_tl-23_fileid_289.wav', 'clnsp327_air_conditioner_371242_0_snr7_tl-21_fileid_8.wav', 'clnsp332_yrucOeXHbs0_snr12_tl-31_fileid_199.wav', 'clnsp339_chair_264157_0_snr8_tl-28_fileid_176.wav', 'clnsp341_water_213280_2_snr14_tl-20_fileid_282.wav', 'clnsp344_V8eEFcWaqoI_snr13_tl-35_fileid_180.wav', 'clnsp352_clatter_noise_431472__debsound__retro-bicycle-minsk-aist-20-ride-loop-rear-wheel_0_snr18_tl-33_fileid_166.wav', 'clnsp353_bus_128120_5_snr14_tl-23_fileid_7.wav', 'clnsp355_bus_84241_5_snr1_tl-33_fileid_59.wav', 'clnsp371_washer_400403_2_snr6_tl-21_fileid_288.wav', 'clnsp374_vacuum_195835_3_snr12_tl-25_fileid_205.wav', 'clnsp378_vacuum_154783_1_snr6_tl-32_fileid_283.wav', 'clnsp379_baby_416648_0_snr10_tl-29_fileid_136.wav', 'clnsp380_drinking_water_445523_0_snr16_tl-20_fileid_69.wav', 'clnsp383_babble_188218_15_snr6_tl-18_fileid_94.wav', 'clnsp385_bus_109303_1_snr6_tl-28_fileid_247.wav', 'clnsp386_wind_130975_1_snr14_tl-23_fileid_232.wav', 'clnsp387_wind_361414_0_snr5_tl-29_fileid_64.wav', 'clnsp393_chair_400385_0_snr9_tl-31_fileid_220.wav', 'clnsp395_bus_84241_0_snr4_tl-22_fileid_229.wav', 'clnsp399_squeaky_213909_0_snr10_tl-30_fileid_181.wav', 'clnsp401_breath_336530_3_snr1_tl-28_fileid_163.wav', 'clnsp414_pa_kcBIPQJM_snr5_tl-23_fileid_145.wav', 'clnsp426_air_conditioner_151977_1_snr3_tl-35_fileid_17.wav', 'clnsp430_babble_188218_23_snr8_tl-22_fileid_280.wav', 'clnsp433_baby_416671_0_snr14_tl-34_fileid_249.wav', 'clnsp435_footsteps_324086_0_snr1_tl-23_fileid_223.wav', 'clnsp439_washer_246507_4_snr12_tl-29_fileid_132.wav', 'clnsp448_squeaky_51165_0_snr8_tl-26_fileid_118.wav', 'clnsp44_wind_97396_2_snr14_tl-26_fileid_271.wav', 'clnsp454_UhNx_8XfBZU_snr19_tl-24_fileid_113.wav', 'clnsp461_bus_84241_6_snr7_tl-24_fileid_20.wav', 'clnsp46_dryer_output_83885_2_snr0_tl-31_fileid_67.wav', 'clnsp470_8TQfuL-u2rA_snr8_tl-21_fileid_142.wav', 'clnsp475_door_73622_0_snr16_tl-29_fileid_191.wav', 'clnsp476_birds_413745_5_snr6_tl-21_fileid_291.wav', 'clnsp47_fan_out_83867_5_snr4_tl-34_fileid_277.wav', 'clnsp480_baby_416664_0_snr16_tl-31_fileid_33.wav', 'clnsp487_vacuum_154783_0_snr11_tl-30_fileid_208.wav', 'clnsp492_vacuum_195835_4_snr7_tl-33_fileid_264.wav', 'clnsp493_barking_208030_0_snr17_tl-26_fileid_42.wav', 'clnsp502_s8-7-XXSGvQ_snr13_tl-32_fileid_285.wav', 'clnsp50_babble_188218_24_snr4_tl-29_fileid_255.wav', 'clnsp513_babble_188218_9_snr15_tl-21_fileid_287.wav', 'clnsp517_wind_112296_1_snr6_tl-30_fileid_165.wav', 'clnsp51_baby_416672_0_snr11_tl-22_fileid_167.wav', 'clnsp524_train_181130_1_snr6_tl-18_fileid_169.wav', 'clnsp528_baby_416669_0_snr12_tl-29_fileid_38.wav', 'clnsp52_amMeH4u6AO4_snr5_tl-18_fileid_19.wav', 'clnsp535_washer_460549_1_snr2_tl-35_fileid_102.wav', 'clnsp54_door_119791_0_snr5_tl-18_fileid_76.wav', 'clnsp554_vacuum_159347_2_snr6_tl-24_fileid_261.wav', 'clnsp572_fan_out_62635_0_snr5_tl-20_fileid_214.wav', 'clnsp574_footsteps_324086_1_snr15_tl-34_fileid_134.wav', 'clnsp577_typing_138283_2_snr8_tl-23_fileid_77.wav', 'clnsp57_bus_84241_3_snr2_tl-30_fileid_300.wav', 'clnsp585_-ozcHS8vKhU_snr8_tl-23_fileid_14.wav', 'clnsp587_Unt_WsHPhfA_snr8_tl-30_fileid_34.wav', 'clnsp591_clatter_noise_166453__zabuhailo__metalworking-hammer-5_5_snr9_tl-27_fileid_105.wav', 'clnsp592_birds_130501_1_snr15_tl-28_fileid_173.wav', 'clnsp598_traffic_110381_0_snr18_tl-30_fileid_37.wav', 'clnsp609_breath_336530_2_snr3_tl-30_fileid_5.wav', 'clnsp610_11vO87xkSo8_snr3_tl-29_fileid_112.wav', 'clnsp611_babble_188218_6_snr8_tl-33_fileid_161.wav', 'clnsp621_clatter_noise_194994__soundmary__metalic-squeeks-and-clunks_0_snr5_tl-35_fileid_221.wav', 'clnsp622_baby_416680_0_snr2_tl-34_fileid_234.wav', 'clnsp624_XrrtrRz1A2Q_snr19_tl-22_fileid_54.wav', 'clnsp626_BVu4HrPCEXM_snr5_tl-27_fileid_253.wav', 'clnsp627_footsteps_262591_2_snr15_tl-18_fileid_82.wav', 'clnsp628_water_147808_0_snr1_tl-33_fileid_53.wav', 'clnsp62_birds_413745_6_snr14_tl-33_fileid_81.wav', 'clnsp640_barking_196127_1_snr19_tl-19_fileid_218.wav', 'clnsp642_atRfc2R9SdU_snr13_tl-33_fileid_206.wav', 'clnsp644_barking_25887_0_snr5_tl-28_fileid_89.wav', 'clnsp67_air_conditioner_151977_0_snr18_tl-23_fileid_80.wav', 'clnsp71_babble_188218_26_snr4_tl-20_fileid_275.wav', 'clnsp72_DMTAv9mw_x8_snr12_tl-18_fileid_48.wav', 'clnsp74_fan_out_56236_0_snr9_tl-28_fileid_210.wav', 'clnsp76_babble_188218_0_snr18_tl-28_fileid_117.wav', 'clnsp81_car_74675_2_snr18_tl-22_fileid_9.wav', 'clnsp91_washer_400403_3_snr11_tl-30_fileid_228.wav', 'clnsp93_bus_128120_1_snr19_tl-25_fileid_130.wav', 'clnsp94_9wJqCdp5PKw_snr8_tl-18_fileid_43.wav']\n",
            "150\n"
          ]
        }
      ]
    },
    {
      "cell_type": "code",
      "source": [
        "clean_file_map = dict()\n",
        "noisy_file_map = dict()\n",
        "\n",
        "for fn in clean_file_names:\n",
        "    identifier = fn.split(\"_\")[-1].split(\".\")[0]\n",
        "    clean_file_map[identifier] = fn\n",
        "\n",
        "for fn in noisy_file_names:\n",
        "    identifier = fn.split(\"_\")[-1].split(\".\")[0]\n",
        "    noisy_file_map[identifier] = fn\n",
        "\n",
        "print (len(clean_file_map.keys()))\n",
        "print (len(noisy_file_map.keys()))\n",
        "\n",
        "print (set(clean_file_map.keys()).difference(set(noisy_file_map.keys())))\n",
        "print (set(noisy_file_map.keys()).difference(set(clean_file_map.keys())))"
      ],
      "metadata": {
        "id": "-rHgcVh7sB0H"
      },
      "execution_count": null,
      "outputs": []
    },
    {
      "cell_type": "code",
      "execution_count": null,
      "metadata": {
        "colab": {
          "base_uri": "https://localhost:8080/"
        },
        "id": "5fMp9Qsd6osJ",
        "outputId": "5d5e150e-7b59-4a2c-f542-870005eb8060"
      },
      "outputs": [
        {
          "output_type": "stream",
          "name": "stdout",
          "text": [
            "150\n",
            "150\n",
            "set()\n",
            "set()\n"
          ]
        }
      ],
      "source": [
        "clean_file_map = dict()\n",
        "noisy_file_map = dict()\n",
        "\n",
        "for fn in clean_file_names:\n",
        "    identifier = fn.split(\"_\")[-1].split(\".\")[0]\n",
        "    clean_file_map[identifier] = fn\n",
        "\n",
        "for fn in noisy_file_names:\n",
        "    identifier = fn.split(\"_\")[-1].split(\".\")[0]\n",
        "    noisy_file_map[identifier] = fn\n",
        "\n",
        "print (len(clean_file_map.keys()))\n",
        "print (len(noisy_file_map.keys()))\n",
        "\n",
        "print (set(clean_file_map.keys()).difference(set(noisy_file_map.keys())))\n",
        "print (set(noisy_file_map.keys()).difference(set(clean_file_map.keys())))"
      ]
    },
    {
      "cell_type": "code",
      "source": [
        "clean_file_map.keys()"
      ],
      "metadata": {
        "colab": {
          "base_uri": "https://localhost:8080/"
        },
        "id": "LFksKo1yNY6L",
        "outputId": "ef7c051c-a66c-45c4-dde0-68f01e33ee39"
      },
      "execution_count": null,
      "outputs": [
        {
          "output_type": "execute_result",
          "data": {
            "text/plain": [
              "dict_keys(['277', '206', '49', '207', '77', '118', '214', '71', '80', '271', '247', '133', '104', '249', '210', '66', '250', '44', '264', '2', '290', '8', '169', '37', '50', '268', '101', '72', '197', '147', '89', '238', '102', '223', '150', '110', '158', '142', '112', '213', '289', '47', '176', '3', '136', '45', '33', '253', '163', '52', '35', '73', '175', '34', '127', '69', '275', '285', '23', '19', '243', '107', '280', '149', '220', '192', '64', '245', '218', '6', '283', '274', '208', '255', '156', '43', '178', '76', '241', '205', '54', '117', '199', '231', '42', '180', '9', '139', '113', '287', '17', '60', '14', '20', '82', '221', '53', '201', '125', '94', '5', '105', '59', '261', '200', '48', '152', '181', '81', '57', '234', '229', '282', '58', '26', '96', '167', '232', '165', '38', '288', '7', '88', '191', '143', '155', '21', '228', '252', '67', '132', '137', '0', '4', '90', '291', '161', '63', '145', '146', '170', '300', '296', '116', '173', '130', '293', '134', '166', '16'])"
            ]
          },
          "metadata": {},
          "execution_count": 33
        }
      ]
    },
    {
      "cell_type": "code",
      "source": [
        "noisy_file_map.keys()"
      ],
      "metadata": {
        "colab": {
          "base_uri": "https://localhost:8080/"
        },
        "id": "C7cY3ks5NaVI",
        "outputId": "3bcf75ee-28e3-487f-b06b-24a7813ea767"
      },
      "execution_count": null,
      "outputs": [
        {
          "output_type": "execute_result",
          "data": {
            "text/plain": [
              "dict_keys(['250', '291', '132', '8', '80', '268', '293', '170', '26', '104', '23', '167', '178', '113', '161', '245', '274', '228', '282', '4', '136', '130', '118', '73', '112', '88', '49', '20', '238', '200', '33', '52', '210', '17', '166', '137', '134', '116', '57', '58', '149', '252', '220', '105', '101', '3', '66', '249', '197', '207', '47', '16', '289', '163', '231', '142', '77', '255', '173', '152', '199', '59', '287', '71', '69', '50', '155', '300', '280', '191', '48', '60', '133', '234', '275', '63', '158', '6', '90', '146', '205', '143', '283', '145', '43', '89', '45', '0', '232', '21', '9', '42', '243', '229', '7', '34', '102', '53', '125', '54', '14', '180', '169', '127', '82', '271', '241', '261', '38', '110', '81', '67', '5', '44', '72', '181', '76', '288', '175', '218', '221', '264', '253', '201', '117', '208', '192', '2', '247', '290', '213', '277', '147', '206', '94', '150', '214', '19', '107', '139', '96', '296', '35', '285', '223', '37', '64', '165', '156', '176'])"
            ]
          },
          "metadata": {},
          "execution_count": 34
        }
      ]
    },
    {
      "cell_type": "code",
      "execution_count": null,
      "metadata": {
        "id": "NdAHWMP98Fa6"
      },
      "outputs": [],
      "source": [
        "!cd drive/MyDrive"
      ]
    },
    {
      "cell_type": "code",
      "execution_count": null,
      "metadata": {
        "colab": {
          "base_uri": "https://localhost:8080/"
        },
        "id": "AunurSjk9Gvb",
        "outputId": "bade75d9-278b-4fb5-918f-8723de1c163f"
      },
      "outputs": [
        {
          "name": "stdout",
          "output_type": "stream",
          "text": [
            "/content\n"
          ]
        }
      ],
      "source": [
        "!pwd"
      ]
    },
    {
      "cell_type": "code",
      "source": [
        "for identifier in clean_file_map.keys():\n",
        "    clean_url = root_url + \"/clean/\" + clean_file_map[identifier]\n",
        "    noisy_url = root_url + \"/noisy/\" + noisy_file_map[identifier]\n",
        "\n",
        "    print (clean_url)\n",
        "    print (noisy_url)\n",
        "\n",
        "    os.system(\"wget -O idlproj/data/clean/clean_\" + str(identifier) + \".wav \" + clean_url)\n",
        "    os.system(\"wget -O idlproj/data/noisy/noisy_\" + str(identifier) + \".wav \" + noisy_url)"
      ],
      "metadata": {
        "id": "hpdUZO6MsR5O"
      },
      "execution_count": null,
      "outputs": []
    },
    {
      "cell_type": "code",
      "source": [
        "import librosa\n",
        "\n",
        "audios = []\n",
        "\n",
        "for identifier in clean_file_map.keys():\n",
        "    clean = librosa.load(\"idlproj/data/clean/clean_\" + str(identifier) + \".wav\", sr=16000)[0]\n",
        "    noisy = librosa.load(\"idlproj/data/noisy/noisy_\" + str(identifier) + \".wav\", sr=16000)[0]\n",
        "\n",
        "    audios.append((clean, noisy))"
      ],
      "metadata": {
        "id": "pB0un41OsS1h"
      },
      "execution_count": null,
      "outputs": []
    },
    {
      "cell_type": "code",
      "source": [
        "def get_metrics(clean, noisy):\n",
        "\n",
        "    # pysepm\n",
        "\n",
        "    Y01, Y02, Y03 = pysepm.composite(clean, noisy, 16000)\n",
        "    Y04, Y05, Y06 = pysepm.csii(clean, noisy, 16000)\n",
        "    Y07           = pysepm.fwSNRseg(clean, noisy, 16000)\n",
        "    Y08           = pysepm.SNRseg(clean, noisy, 16000)\n",
        "    Y09           = pysepm.llr(clean, noisy, 16000)\n",
        "    Y10           = pysepm.ncm(clean, noisy, 16000)\n",
        "    Y11           = pysepm.wss(clean, noisy, 16000)\n",
        "\n",
        "    # speechmetrics\n",
        "\n",
        "    Y12, Y13, Y14, Y15, Y16, Y17, Y18 = speechmetrics.load(\n",
        "        'relative', window=None)(noisy, clean, rate=16000).values()\n",
        "\n",
        "    Y12, Y13, Y14 = Y12.item(), Y13.item(), Y14.item()\n",
        "\n",
        "    Y19, Y20 = speechmetrics.load(\n",
        "        'absolute', window=None)(noisy, rate=16000).values()\n",
        "\n",
        "    Y19 = Y19.item()\n",
        "\n",
        "    # PYSTOI\n",
        "\n",
        "    Y23 = pystoi.stoi(clean, noisy, fs_sig=16000, extended=False)\n",
        "    Y24 = pystoi.stoi(clean, noisy, fs_sig=16000, extended=True)\n",
        "\n",
        "    Y25 = mbstoi.mbstoi(clean, clean, noisy, noisy, fs_signal=16000)\n",
        "    Y26, _ = haspi.haspi_v2(clean, 16000, noisy, 16000, [250, 500, 1000, 2000, 4000, 6000])\n",
        "\n",
        "    return np.array([Y01, Y02, Y03, Y04, Y05, Y06, Y07, Y08, Y09, Y10, Y11, Y12, Y13, Y14, Y15, Y16, Y17, Y18, Y19, Y20, Y23, Y24, Y25, Y26])"
      ],
      "metadata": {
        "id": "NPKiVTk5sU1H"
      },
      "execution_count": null,
      "outputs": []
    },
    {
      "cell_type": "code",
      "source": [
        "metrics = np.zeros((150,24))\n",
        "\n",
        "for i, pair in enumerate(audios[:10]):\n",
        "    metrics[i] =  get_metrics(pair[0], pair[1])\n",
        "\n",
        "avg_metrics = np.nanmean(metrics, axis=0)\n",
        "\n",
        "print (avg_metrics)"
      ],
      "metadata": {
        "id": "9RRFe5vLsb2v"
      },
      "execution_count": null,
      "outputs": []
    },
    {
      "cell_type": "code",
      "source": [
        "### SPEECHMETRICS\n",
        "\n",
        "Y12, Y13, Y14, Y15, Y16, Y17, Y18 = speechmetrics.load(\n",
        "    'relative', window=None)(noisy, clean, rate=16000).values()\n",
        "\n",
        "Y12, Y13, Y14 = Y12.item(), Y13.item(), Y14.item()\n",
        "\n",
        "Y19, Y20 = speechmetrics.load(\n",
        "    'absolute', window=None)(noisy, rate=16000).values()\n",
        "\n",
        "Y19 = Y19.item()\n",
        "\n",
        "### PRINT\n",
        "\n",
        "print(\n",
        "    \"\\n\",\n",
        "    \"SDR     \", Y12, \"\\n\",\n",
        "    \"ISR     \", Y13, \"\\n\",\n",
        "    \"SAR     \", Y14, \"\\n\",\n",
        "    \"NB_PESQ \", Y15, \"\\n\",\n",
        "    \"PESQ    \", Y16, \"\\n\",\n",
        "    \"SISDR   \", Y17, \"\\n\",\n",
        "    \"STOI    \", Y18, \"\\n\",\n",
        "    \"MOSNET  \", Y19, \"\\n\",\n",
        "    \"SRMR    \", Y20,\n",
        "    sep=\"\")\n"
      ],
      "metadata": {
        "id": "K_8i2rEksicH"
      },
      "execution_count": null,
      "outputs": []
    },
    {
      "cell_type": "code",
      "source": [
        "### PYSTOI\n",
        "\n",
        "Y23 = pystoi.stoi(clean, noisy, fs_sig=16000, extended=False)\n",
        "Y24 = pystoi.stoi(clean, noisy, fs_sig=16000, extended=True)\n",
        "\n",
        "### PRINT\n",
        "\n",
        "print(\n",
        "    \"STOI   \", Y23, \"\\n\",\n",
        "    \"ESTOI  \", Y24,\n",
        "    sep=\"\"\n",
        ")"
      ],
      "metadata": {
        "id": "CZvk6m5GsnS-"
      },
      "execution_count": null,
      "outputs": []
    },
    {
      "cell_type": "code",
      "source": [
        "Y25 = mbstoi.mbstoi(clean, clean, noisy, noisy, fs_signal=16000)\n",
        "Y26, _ = haspi.haspi_v2(clean, 16000, noisy, 16000, [250, 500, 1000, 2000, 4000, 6000])\n",
        "\n",
        "print(\n",
        "    \"MBSTOI \", Y25, \"\\n\",\n",
        "    \"HASPI  \", Y26,\n",
        "    sep=\"\"\n",
        ")"
      ],
      "metadata": {
        "id": "GxnJyzONspxj"
      },
      "execution_count": null,
      "outputs": []
    }
  ],
  "metadata": {
    "colab": {
      "provenance": []
    },
    "gpuClass": "standard",
    "kernelspec": {
      "display_name": "Python 3",
      "name": "python3"
    },
    "language_info": {
      "name": "python"
    }
  },
  "nbformat": 4,
  "nbformat_minor": 0
}